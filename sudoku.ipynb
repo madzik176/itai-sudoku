{
 "cells": [
  {
   "cell_type": "markdown",
   "metadata": {},
   "source": [
    "# Sudoku miniproject\n",
    "\n",
    "Below you will find the most elegant solution of sudoku solver coded by Peter Norvig. It's a good notation and implementation of two (simple) techniques that are enough to solve sudoku in a reasonable time.\n",
    "\n",
    "You can find the original post here: http://norvig.com/sudoku.html\n",
    "\n",
    "The best website about sudoku: http://www.sudokudragon.com/sudokutheory.htm"
   ]
  },
  {
   "cell_type": "markdown",
   "metadata": {},
   "source": [
    "### Sudoku Notation and Preliminary Notions\n",
    "\n",
    "First we have to agree on some notation. A Sudoku puzzle is a grid of 81 squares; the majority of enthusiasts label the columns 1-9, the rows A-I, and call a collection of nine squares (column, row, or box) a unit and the squares that share a unit the peers. A puzzle leaves some squares blank and fills others with digits, and the whole idea is:\n",
    "A puzzle is solved if the squares in each unit are filled with a permutation of the digits 1 to 9.\n",
    "That is, no digit can appear twice in a unit, and every digit must appear once. This implies that each square must have a different value from any of its peers. Here are the names of the squares, a typical puzzle, and the solution to the puzzle:\n",
    "\n",
    "```\n",
    " A1 A2 A3| A4 A5 A6| A7 A8 A9    4 . . |. . . |8 . 5     4 1 7 |3 6 9 |8 2 5 \n",
    " B1 B2 B3| B4 B5 B6| B7 B8 B9    . 3 . |. . . |. . .     6 3 2 |1 5 8 |9 4 7\n",
    " C1 C2 C3| C4 C5 C6| C7 C8 C9    . . . |7 . . |. . .     9 5 8 |7 2 4 |3 1 6 \n",
    "---------+---------+---------    ------+------+------    ------+------+------\n",
    " D1 D2 D3| D4 D5 D6| D7 D8 D9    . 2 . |. . . |. 6 .     8 2 5 |4 3 7 |1 6 9 \n",
    " E1 E2 E3| E4 E5 E6| E7 E8 E9    . . . |. 8 . |4 . .     7 9 1 |5 8 6 |4 3 2 \n",
    " F1 F2 F3| F4 F5 F6| F7 F8 F9    . . . |. 1 . |. . .     3 4 6 |9 1 2 |7 5 8 \n",
    "---------+---------+---------    ------+------+------    ------+------+------\n",
    " G1 G2 G3| G4 G5 G6| G7 G8 G9    . . . |6 . 3 |. 7 .     2 8 9 |6 4 3 |5 7 1 \n",
    " H1 H2 H3| H4 H5 H6| H7 H8 H9    5 . . |2 . . |. . .     5 7 3 |2 9 1 |6 8 4 \n",
    " I1 I2 I3| I4 I5 I6| I7 I8 I9    1 . 4 |. . . |. . .     1 6 4 |8 7 5 |2 9 3 \n",
    "```\n",
    "\n",
    "Every square has exactly 3 units and 20 peers. For example, here are the units and peers for the square C2:\n",
    "\n",
    "```\n",
    "    A2   |         |                    |         |            A1 A2 A3|         |         \n",
    "    B2   |         |                    |         |            B1 B2 B3|         |         \n",
    "    C2   |         |            C1 C2 C3| C4 C5 C6| C7 C8 C9   C1 C2 C3|         |         \n",
    "---------+---------+---------  ---------+---------+---------  ---------+---------+---------\n",
    "    D2   |         |                    |         |                    |         |         \n",
    "    E2   |         |                    |         |                    |         |         \n",
    "    F2   |         |                    |         |                    |         |         \n",
    "---------+---------+---------  ---------+---------+---------  ---------+---------+---------\n",
    "    G2   |         |                    |         |                    |         |         \n",
    "    H2   |         |                    |         |                    |         |         \n",
    "    I2   |         |                    |         |                    |         |    \n",
    "```"
   ]
  },
  {
   "cell_type": "code",
   "execution_count": 1,
   "metadata": {
    "collapsed": false
   },
   "outputs": [
    {
     "name": "stdout",
     "output_type": "stream",
     "text": [
      "[['A1', 'B1', 'C1', 'D1', 'E1', 'F1', 'G1', 'H1', 'I1'], ['A1', 'A2', 'A3', 'A4', 'A5', 'A6', 'A7', 'A8', 'A9'], ['A1', 'A2', 'A3', 'B1', 'B2', 'B3', 'C1', 'C2', 'C3']]\n"
     ]
    }
   ],
   "source": [
    "#notation\n",
    "\n",
    "def cross(A, B):\n",
    "    \"Cross product of elements in A and elements in B.\"\n",
    "    return [a+b for a in A for b in B]\n",
    "\n",
    "digits   = '123456789'\n",
    "rows     = 'ABCDEFGHI'\n",
    "cols     = digits\n",
    "squares  = cross(rows, cols)\n",
    "unitlist = ([cross(rows, c) for c in cols] +\n",
    "            [cross(r, cols) for r in rows] +\n",
    "            [cross(rs, cs) for rs in ('ABC','DEF','GHI') for cs in ('123','456','789')])\n",
    "units = dict((s, [u for u in unitlist if s in u]) \n",
    "             for s in squares)\n",
    "peers = dict((s, set(sum(units[s],[]))-set([s]))\n",
    "             for s in squares)\n",
    "\n",
    "print(units['A1'])"
   ]
  },
  {
   "cell_type": "markdown",
   "metadata": {},
   "source": [
    "### Sudoku grid\n",
    "Now that we have squares, units, and peers, the next step is to define the Sudoku playing grid. Actually we need two representations: First, a textual format used to specify the initial state of a puzzle; we will reserve the name grid for this. Second, an internal representation of any state of a puzzle, partially solved or complete; this we will call a values collection because it will give all the remaining possible values for each square. For the textual format (grid) we'll allow a string of characters with 1-9 indicating a digit, and a 0 or period specifying an empty square. All other characters are ignored (including spaces, newlines, dashes, and bars). So each of the following three grid strings represent the same puzzle:\n",
    "\n"
   ]
  },
  {
   "cell_type": "code",
   "execution_count": 2,
   "metadata": {
    "collapsed": false
   },
   "outputs": [
    {
     "name": "stdout",
     "output_type": "stream",
     "text": [
      "4 . . |. . . |8 . 5 \n",
      ". 3 . |. . . |. . . \n",
      ". . . |7 . . |. . . \n",
      "------+------+------\n",
      ". 2 . |. . . |. 6 . \n",
      ". . . |. 8 . |4 . . \n",
      ". . . |. 1 . |. . . \n",
      "------+------+------\n",
      ". . . |6 . 3 |. 7 . \n",
      "5 . . |2 . . |. . . \n",
      "1 . 4 |. . . |. . . \n",
      "\n"
     ]
    }
   ],
   "source": [
    "# parser\n",
    "def grid_values(grid):\n",
    "    \"Convert grid into a dict of {square: char} with '0' or '.' for empties.\"\n",
    "    chars = [c for c in grid if c in digits or c in '0.']\n",
    "    #assert len(chars) == 81\n",
    "    return dict(zip(squares, chars))\n",
    "\n",
    "def display(values):\n",
    "    \"Display these values as a 2-D grid.\"\n",
    "    width = 1+max(len(values[s]) for s in squares)\n",
    "    line = '+'.join(['-'*(width*3)]*3)\n",
    "    for r in rows:\n",
    "        print(''.join(values[r+c].center(width)+('|' if c in '36' else '') for c in cols))\n",
    "        if r in 'CF': print(line)\n",
    "    print()\n",
    "\n",
    "# sample sudoku\n",
    "grid1 = '003020600900305001001806400008102900700000008006708200002609500800203009005010300'\n",
    "grid2 = \"4.....8.5.3..........7......2.....6.....8.4......1.......6.3.7.5..2.....1.4......\"\n",
    "display(grid_values(grid2))"
   ]
  },
  {
   "cell_type": "markdown",
   "metadata": {},
   "source": [
    "### Parser\n",
    "Now for values. One might think that a 9 x 9 array would be the obvious data structure. But squares have names like 'A1', not (0,0). Therefore, values will be a dict with squares as keys. The value of each key will be the possible digits for that square: a single digit if it was given as part of the puzzle definition or if we have figured out what it must be, and a collection of several digits if we are still uncertain. This collection of digits could be represented by a Python set or list, but I chose instead to use a string of digits (we'll see why later). So a grid where A1 is 7 and C7 is empty would be represented as {'A1': '7', 'C7': '123456789', ...}."
   ]
  },
  {
   "cell_type": "code",
   "execution_count": 3,
   "metadata": {
    "collapsed": false
   },
   "outputs": [
    {
     "name": "stdout",
     "output_type": "stream",
     "text": [
      "{'A1': '4', 'A2': '.', 'A3': '.', 'A4': '.', 'A5': '.', 'A6': '.', 'A7': '8', 'A8': '.', 'A9': '5', 'B1': '.', 'B2': '3', 'B3': '.', 'B4': '.', 'B5': '.', 'B6': '.', 'B7': '.', 'B8': '.', 'B9': '.', 'C1': '.', 'C2': '.', 'C3': '.', 'C4': '7', 'C5': '.', 'C6': '.', 'C7': '.', 'C8': '.', 'C9': '.', 'D1': '.', 'D2': '2', 'D3': '.', 'D4': '.', 'D5': '.', 'D6': '.', 'D7': '.', 'D8': '6', 'D9': '.', 'E1': '.', 'E2': '.', 'E3': '.', 'E4': '.', 'E5': '8', 'E6': '.', 'E7': '4', 'E8': '.', 'E9': '.', 'F1': '.', 'F2': '.', 'F3': '.', 'F4': '.', 'F5': '1', 'F6': '.', 'F7': '.', 'F8': '.', 'F9': '.', 'G1': '.', 'G2': '.', 'G3': '.', 'G4': '6', 'G5': '.', 'G6': '3', 'G7': '.', 'G8': '7', 'G9': '.', 'H1': '5', 'H2': '.', 'H3': '.', 'H4': '2', 'H5': '.', 'H6': '.', 'H7': '.', 'H8': '.', 'H9': '.', 'I1': '1', 'I2': '.', 'I3': '4', 'I4': '.', 'I5': '.', 'I6': '.', 'I7': '.', 'I8': '.', 'I9': '.'}\n"
     ]
    }
   ],
   "source": [
    "def parse_grid(grid):\n",
    "    \"\"\"Convert grid to a dict of possible values, {square: digits}, or\n",
    "    return False if a contradiction is detected.\"\"\"\n",
    "    ## To start, every square can be any digit; then assign values from the grid.\n",
    "    values = dict((s, digits) for s in squares)\n",
    "    for s,d in grid_values(grid).items():\n",
    "        if d in digits and not assign(values, s, d):\n",
    "            return False ## (Fail if we can't assign d to square s.)\n",
    "    return values\n",
    "\n",
    "grid2 = \"4.....8.5.3..........7......2.....6.....8.4......1.......6.3.7.5..2.....1.4......\"\n",
    "sudoku_values = (grid_values(grid2))\n",
    "                 \n",
    "print(sudoku_values)\n"
   ]
  },
  {
   "cell_type": "markdown",
   "metadata": {},
   "source": [
    "# Constraint Propagation - original code\n",
    "The function parse_grid calls assign(values, s, d). We could implement this as values[s] = d, but we can do more than just that. Those with experience solving Sudoku puzzles know that there are two important strategies that we can use to make progress towards filling in all the squares:\n",
    "\n",
    "(1) If a square has only one possible value, then eliminate that value from the square's peers. \n",
    "\n",
    "(2) If a unit has only one possible place for a value, then put the value there.\n",
    "\n",
    "As an example of strategy (1) if we assign 7 to A1, yielding {'A1': '7', 'A2':'123456789', ...}, we see that A1 has only one value, and thus the 7 can be removed from its peer A2 (and all other peers), giving us {'A1': '7', 'A2': '12345689', ...}. As an example of strategy (2), if it turns out that none of A3 through A9 has a 3 as a possible value, then the 3 must belong in A2, and we can update to {'A1': '7', 'A2':'3', ...}. These updates to A2 may in turn cause further updates to its peers, and the peers of those peers, and so on. This process is called constraint propagation.\n",
    "\n",
    "The function assign(values, s, d) will return the updated values (including the updates from constraint propagation), but if there is a contradiction--if the assignment cannot be made consistently--then assign returns False. For example, if a grid starts with the digits '77...' then when we try to assign the 7 to A2, assign would notice that 7 is not a possibility for A2, because it was eliminated by the peer, A1.\n",
    "\n",
    "It turns out that the fundamental operation is not assigning a value, but rather eliminating one of the possible values for a square, which we implement with eliminate(values, s, d). Once we have eliminate, then assign(values, s, d) can be defined as \"eliminate all the values from s except d\"."
   ]
  },
  {
   "cell_type": "code",
   "execution_count": 4,
   "metadata": {
    "collapsed": true
   },
   "outputs": [],
   "source": [
    "def assign(values, s, d):\n",
    "    \"\"\"Eliminate all the other values (except d) from values[s] and propagate.\n",
    "    Return values, except return False if a contradiction is detected.\"\"\"\n",
    "    other_values = values[s].replace(d, '')\n",
    "    if all(eliminate(values, s, d2) for d2 in other_values):\n",
    "        return values\n",
    "    else:\n",
    "        return False\n",
    "\n",
    "def eliminate(values, s, d):\n",
    "    \"\"\"Eliminate d from values[s]; propagate when values or places <= 2.\n",
    "    Return values, except return False if a contradiction is detected.\"\"\"\n",
    "    if d not in values[s]:\n",
    "        return values ## Already eliminated\n",
    "    values[s] = values[s].replace(d,'')\n",
    "    ## (1) If a square s is reduced to one value d2, then eliminate d2 from the peers.\n",
    "    if len(values[s]) == 0:\n",
    "        return False ## Contradiction: removed last value\n",
    "    elif len(values[s]) == 1:\n",
    "        d2 = values[s]\n",
    "        if not all(eliminate(values, s2, d2) for s2 in peers[s]):\n",
    "            return False\n",
    "    ## (2) If a unit u is reduced to only one place for a value d, then put it there.\n",
    "    for u in units[s]:\n",
    "        dplaces = [s for s in u if d in values[s]]\n",
    "        if len(dplaces) == 0:\n",
    "            return False ## Contradiction: no place for this value\n",
    "        elif len(dplaces) == 1:\n",
    "            # d can only be in one place in unit; assign it there\n",
    "            if not assign(values, dplaces[0], d):\n",
    "                return False\n",
    "    return values"
   ]
  },
  {
   "cell_type": "markdown",
   "metadata": {},
   "source": [
    "### Test run"
   ]
  },
  {
   "cell_type": "code",
   "execution_count": 5,
   "metadata": {
    "collapsed": false
   },
   "outputs": [
    {
     "name": "stdout",
     "output_type": "stream",
     "text": [
      "   4      1679   12679  |  139     2369    269   |   8      1239     5    \n",
      " 26789     3    1256789 | 14589   24569   245689 | 12679    1249   124679 \n",
      "  2689   15689   125689 |   7     234569  245689 | 12369   12349   123469 \n",
      "------------------------+------------------------+------------------------\n",
      "  3789     2     15789  |  3459   34579    4579  | 13579     6     13789  \n",
      "  3679   15679   15679  |  359      8     25679  |   4     12359   12379  \n",
      " 36789     4     56789  |  359      1     25679  | 23579   23589   23789  \n",
      "------------------------+------------------------+------------------------\n",
      "  289      89     289   |   6      459      3    |  1259     7     12489  \n",
      "   5      6789     3    |   2      479      1    |   69     489     4689  \n",
      "   1      6789     4    |  589     579     5789  | 23569   23589   23689  \n",
      "\n"
     ]
    }
   ],
   "source": [
    "grid2 = \"4.....8.5.3..........7......2.....6.....8.4......1.......6.3.7.5..2.....1.4......\"\n",
    "sudoku_values = (parse_grid(grid2))\n",
    "display(sudoku_values)\n",
    "\n",
    "\n"
   ]
  },
  {
   "cell_type": "markdown",
   "metadata": {},
   "source": [
    "# Constraint Propagation - code refactoring\n",
    "\n",
    "Try to decompose* eliminate function into smaller one.\n",
    "* Decomposition is a process by which you can break down one complex function into multiple smaller functions. By doing this, you can solve for functions in shorter, easier-to-understand pieces."
   ]
  },
  {
   "cell_type": "code",
   "execution_count": 6,
   "metadata": {
    "collapsed": false
   },
   "outputs": [
    {
     "name": "stdout",
     "output_type": "stream",
     "text": [
      "   4      1679   12679  |  139     2369    269   |   8      1239     5    \n",
      " 26789     3    1256789 | 14589   24569   245689 | 12679    1249   124679 \n",
      "  2689   15689   125689 |   7     234569  245689 | 12369   12349   123469 \n",
      "------------------------+------------------------+------------------------\n",
      "  3789     2     15789  |  3459   34579    4579  | 13579     6     13789  \n",
      "  3679   15679   15679  |  359      8     25679  |   4     12359   12379  \n",
      " 36789     4     56789  |  359      1     25679  | 23579   23589   23789  \n",
      "------------------------+------------------------+------------------------\n",
      "  289      89     289   |   6      459      3    |  1259     7     12489  \n",
      "   5      6789     3    |   2      479      1    |   69     489     4689  \n",
      "   1      6789     4    |  589     579     5789  | 23569   23589   23689  \n",
      "\n"
     ]
    }
   ],
   "source": [
    "# todo\n",
    "\n",
    "def eliminate(values):\n",
    "    \"\"\"\n",
    "    Iterate through all squares and every time \n",
    "       if there is a square with one value, \n",
    "       then eliminate this value from the peers\n",
    "\n",
    "    input: sudoku in dictionary form\n",
    "    output: resulting sudoku in dictionary form\n",
    "    \"\"\"\n",
    "    for x in values.keys():\n",
    "        if len(values[x]) == 0:\n",
    "            return False\n",
    "        elif len(values[x]) == 1:            \n",
    "            for peer in peers[x]:\n",
    "                values[peer] = values[peer].replace(values[x],'')\n",
    "    return values\n",
    "\n",
    "def only_choice(values):\n",
    "    \"\"\"\n",
    "    Iterate through all squares and every time\n",
    "        if there is a square with a value that only fits in one square, \n",
    "        assign the value to this square\n",
    "\n",
    "    input: sudoku in dictionary form\n",
    "    output: resulting sudoku in dictionary form\n",
    "    \"\"\"\n",
    "    digits   = '123456789'\n",
    "    rows     = 'ABCDEFGHI'\n",
    "    for x in values.keys():\n",
    "        if len(values[x]) == 0:\n",
    "            return False\n",
    "        elif len(values[x]) != 1:\n",
    "            for numbers in values[x]:\n",
    "                letter = x[0]\n",
    "                number = x[1]\n",
    "\n",
    "                rows_ind = rows.find(letter)\n",
    "                rows_ind = rows_ind - (rows_ind%3)\n",
    "                digits_ind = digits.find(number)\n",
    "                digits_ind = digits_ind - (digits_ind%3)\n",
    "                unit = cross(rows[rows_ind : rows_ind+3], digits[digits_ind : digits_ind+3])\n",
    "                \n",
    "                for unit in units[x]:\n",
    "                    not_found = digits[:]\n",
    "                    for sqr in unit:\n",
    "                        if sqr != x:\n",
    "                            not_found = not_found.translate(str.maketrans('', '', values[sqr]))\n",
    "                    if len(not_found)==1 and not_found in values[x]:\n",
    "                        values[x] = not_found\n",
    "                        break\n",
    "    return values\n",
    "\n",
    "def solve_sudoku(values):\n",
    "    \"\"\"\n",
    "    Solve sudoku using eliminate() and only_choice()\n",
    "    \n",
    "    input: sudoku in dictionary form\n",
    "    output: resulting sudoku in dictionary form\n",
    "    \"\"\"\n",
    "    previous_values = values\n",
    "    while 1:\n",
    "        values = eliminate(values)\n",
    "        values = only_choice(values)\n",
    "        if(previous_values == values):\n",
    "            #if there is no progress, just give up\n",
    "            return values\n",
    "    return values\n",
    "\n",
    "display(solve_sudoku(sudoku_values))"
   ]
  },
  {
   "cell_type": "markdown",
   "metadata": {},
   "source": [
    "# Naked twins\n",
    "http://www.sudokudragon.com/tutorialnakedtwins.htm\n"
   ]
  },
  {
   "cell_type": "code",
   "execution_count": 7,
   "metadata": {
    "collapsed": false
   },
   "outputs": [
    {
     "name": "stdout",
     "output_type": "stream",
     "text": [
      "   4      1679   12679  |  139     2369    269   |   8      1239     5    \n",
      " 26789     3    1256789 | 14589   24569   245689 | 12679    1249   124679 \n",
      "  2689   15689   125689 |   7     234569  245689 | 12369   12349   123469 \n",
      "------------------------+------------------------+------------------------\n",
      "  3789     2     15789  |  3459   34579    4579  | 13579     6     13789  \n",
      "  3679   15679   15679  |  359      8     25679  |   4     12359   12379  \n",
      " 36789     4     56789  |  359      1     25679  | 23579   23589   23789  \n",
      "------------------------+------------------------+------------------------\n",
      "  289      89     289   |   6      459      3    |  1259     7     12489  \n",
      "   5      6789     3    |   2      479      1    |   69     489     4689  \n",
      "   1      6789     4    |  589     579     5789  | 23569   23589   23689  \n",
      "\n"
     ]
    }
   ],
   "source": [
    "assignments = []\n",
    "def assign_value(values, box, value):\n",
    "    \"\"\"\n",
    "    Please use this function to update your values dictionary!\n",
    "    Assigns a value to a given box. If it updates the board record it.\n",
    "    \"\"\"\n",
    "    values[box] = value\n",
    "    if len(value) == 1:\n",
    "        assignments.append(values.copy())\n",
    "    return values\n",
    "\n",
    "\n",
    "def naked_twins(values):\n",
    "    \"\"\"\n",
    "    eliminate values using the naked twins strategy\n",
    "    \n",
    "    input: A sudoku in dictionary form.\n",
    "    output: The resulting sudoku in dictionary form.\n",
    "    \"\"\"\n",
    "    #Select boxes with 2 entries\n",
    "    potential_twins = [box for box in values.keys() if len(values[box]) == 2]\n",
    "    #Collect boxes that have the same elements\n",
    "    naked_twins = [[box1,box2] for box1 in potential_twins \\\n",
    "                    for box2 in peers[box1] \\\n",
    "                    if set(values[box1])==set(values[box2]) ]\n",
    "\n",
    "    for i in range(len(naked_twins)):\n",
    "        box1 = naked_twins[i][0]\n",
    "        box2 = naked_twins[i][1]\n",
    "        #Compute intersection of peers\n",
    "        peers1 = set(peers[box1])\n",
    "        peers2 = set(peers[box2])\n",
    "        peers_int = peers1 & peers2\n",
    "        #Delete the two digits in naked twins from all common peers.\n",
    "        for peer_val in peers_int:\n",
    "            if len(values[peer_val])>2:\n",
    "                for rm_val in values[box1]:\n",
    "                    values = assign_value(values, peer_val, values[peer_val].replace(rm_val,''))\n",
    "    return values\n",
    "\n",
    "def solve_with_twins(values):\n",
    "    \"\"\"\n",
    "    Solve sudoku using eliminate() and only_choice()\n",
    "    \n",
    "    input: sudoku in dictionary form\n",
    "    output: resulting sudoku in dictionary form\n",
    "    \"\"\"\n",
    "    previous_values = values\n",
    "    while 1:\n",
    "        values = eliminate(values)\n",
    "        values = only_choice(values)\n",
    "        values = naked_twins(values)\n",
    "        if(previous_values == values): \n",
    "            return values\n",
    "        \n",
    "        \n",
    "display(solve_with_twins(sudoku_values))"
   ]
  },
  {
   "cell_type": "code",
   "execution_count": 11,
   "metadata": {
    "collapsed": false
   },
   "outputs": [
    {
     "name": "stdout",
     "output_type": "stream",
     "text": [
      "Avg time:  0.0018809933056852894 s\n",
      "Max time:  0.00234487860367949 s\n",
      "Solved of easiest.txt :  1 / 6 sudoku - 16.666666666666664 %\n",
      "\n",
      "\n",
      "Avg time:  0.0074721330143880495 s\n",
      "Max time:  0.01307663918795754 s\n",
      "Solved of easy50.txt :  0 / 50 sudoku - 0.0 %\n",
      "\n",
      "\n",
      "Avg time:  0.010296131885852775 s\n",
      "Max time:  0.012359053788934204 s\n",
      "Solved of top95.txt :  0 / 95 sudoku - 0.0 %\n",
      "\n",
      "\n",
      "Avg time:  0.0017739165370448025 s\n",
      "Max time:  0.0022804272835159622 s\n",
      "Solved of easiest.txt :  1 / 6 sudoku - 16.666666666666664 %\n",
      "\n",
      "\n",
      "Avg time:  0.0067449661261105125 s\n",
      "Max time:  0.011565522566790776 s\n",
      "Solved of easy50.txt :  0 / 50 sudoku - 0.0 %\n",
      "\n",
      "\n",
      "Avg time:  0.010198108838812316 s\n",
      "Max time:  0.013240025337168504 s\n",
      "Solved of top95.txt :  0 / 95 sudoku - 0.0 %\n"
     ]
    }
   ],
   "source": [
    "import time\n",
    "\n",
    "#make sudoku to solving\n",
    "def make_sudoku(values,replace_par):\n",
    "    gridvalues = []\n",
    "    for x in values:\n",
    "        xgrid = grid_values(x)\n",
    "        for grid in xgrid:\n",
    "            if xgrid[grid] == replace_par:\n",
    "                xgrid[grid] = \"123456789\"\n",
    "        gridvalues.append(xgrid)\n",
    "    return gridvalues\n",
    "\n",
    "def check_if_solved(sudoku):\n",
    "    for x in sudoku:\n",
    "        if (len(sudoku[x]) != 1):\n",
    "            return False\n",
    "    return True\n",
    "\n",
    "def read_file(filename,split_par):\n",
    "    return open(filename).read().split(split_par)\n",
    "\n",
    "def make_stats(filename, split_el, rep_el, solver=\"normal\"):\n",
    "    time_list = []\n",
    "    if_solved = []\n",
    "    file = read_file(filename,split_el)\n",
    "    sudoku_values = make_sudoku(file,rep_el)\n",
    "    for x in sudoku_values:\n",
    "        start_time = time.clock()\n",
    "        if solver == \"twins\":\n",
    "            solved_sudoku = solve_with_twins(x)\n",
    "        else:\n",
    "            solved_sudoku = solve_sudoku(x)\n",
    "        time_list.append(time.clock()-start_time)\n",
    "        if_solved.append(check_if_solved(solved_sudoku))      \n",
    "      \n",
    "    avg_time = sum(time_list)/len(time_list)\n",
    "    print(\"Avg time: \", avg_time, \"s\")\n",
    "    print(\"Max time: \", max(time_list), \"s\")\n",
    "    \n",
    "    print(\"Solved of\", filename, \": \", if_solved.count(True), \"/\", len(if_solved), \"sudoku -\", sum(if_solved)/len(if_solved) * 100, \"%\" )\n",
    "    \n",
    "    return avg_time\n",
    "\n",
    "time_normal = []\n",
    "time_twins = []\n",
    "time_twins.append(make_stats(\"easiest.txt\", \"\\n\", \".\", \"twins\"))\n",
    "print(\"\\n\")\n",
    "time_twins.append(make_stats(\"easy50.txt\", \"========\", \"0\", \"twins\"))\n",
    "print(\"\\n\")\n",
    "time_twins.append(make_stats(\"top95.txt\", \"\\n\", \".\", \"twins\"))\n",
    "print(\"\\n\")\n",
    "time_normal.append(make_stats(\"easiest.txt\", \"\\n\", \".\"))\n",
    "print(\"\\n\")\n",
    "time_normal.append(make_stats(\"easy50.txt\", \"========\", \"0\"))\n",
    "print(\"\\n\")\n",
    "time_normal.append(make_stats(\"top95.txt\", \"\\n\", \".\"))\n"
   ]
  },
  {
   "cell_type": "code",
   "execution_count": 12,
   "metadata": {
    "collapsed": false
   },
   "outputs": [
    {
     "data": {
      "image/png": "[encoded data removed]",
      "text/plain": [
       "<matplotlib.figure.Figure at 0x502e550>"
      ]
     },
     "metadata": {},
     "output_type": "display_data"
    }
   ],
   "source": [
    "#show chart\n",
    "import numpy as np\n",
    "import matplotlib.pyplot as plt\n",
    "\n",
    "N = 3\n",
    "ind = np.arange(N)  # the x locations for the groups\n",
    "width = 0.35       # the width of the bars\n",
    "\n",
    "fig, ax = plt.subplots()\n",
    "rects1 = ax.bar(ind, time_normal, width, color='r')\n",
    "rects2 = ax.bar(ind + width, time_twins, width, color='y')\n",
    "\n",
    "# add some text for labels, title and axes ticks\n",
    "ax.set_ylabel('tie [s]')\n",
    "ax.set_title('Average time')\n",
    "ax.set_xticks(ind + width / 2)\n",
    "ax.set_xticklabels(('easiest','easy','normal'))\n",
    "\n",
    "ax.legend((rects1[0], rects2[0]), ('Normal solution', 'Twins solution'))\n",
    "plt.show()"
   ]
  },
  {
   "cell_type": "markdown",
   "metadata": {},
   "source": [
    "### Conclusion\n",
    "\n",
    "The algorithm doesn't work very well, it doesn't resolve sudoku in perfect way. There are often no solutions for only 4-5 places. The solution need function to predict where it could be the number if the same number repeat in few places. Solution could solve the problem only if the sudoku is the easiest, for children. The algorithm works faster when the sudoku is easier. The speed between the methods is slower for the twins method, but it achieves better result."
   ]
  },
  {
   "cell_type": "code",
   "execution_count": null,
   "metadata": {
    "collapsed": true
   },
   "outputs": [],
   "source": []
  }
 ],
 "metadata": {
  "kernelspec": {
   "display_name": "Python 3",
   "language": "python",
   "name": "python3"
  },
  "language_info": {
   "codemirror_mode": {
    "name": "ipython",
    "version": 3
   },
   "file_extension": ".py",
   "mimetype": "text/x-python",
   "name": "python",
   "nbconvert_exporter": "python",
   "pygments_lexer": "ipython3",
   "version": "3.6.0"
  }
 },
 "nbformat": 4,
 "nbformat_minor": 0
}
